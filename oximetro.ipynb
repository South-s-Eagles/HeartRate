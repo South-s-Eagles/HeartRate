{
 "cells": [
  {
   "cell_type": "markdown",
   "metadata": {},
   "source": [
    "# Código Simulação de dados Pulse Sensor ( Inutilizado )"
   ]
  },
  {
   "cell_type": "code",
   "execution_count": 5,
   "metadata": {},
   "outputs": [],
   "source": [
    "import numpy as np\n",
    "import matplotlib.pyplot as plt\n",
    "import time\n",
    "import mysql.connector\n",
    "\n",
    "def connect_database():\n",
    "    try:\n",
    "        connection = mysql.connector.connect(\n",
    "            host=\"localhost\",\n",
    "            user =\"root\",\n",
    "            password=\"L00senha@\",\n",
    "            database=\"oximetro\"\n",
    "        )\n",
    "        print(\"Conexão com o banco de dados realizada com sucesso\")\n",
    "        return connection\n",
    "    except mysql.connector.Error as error:\n",
    "        print(\"Erro ao conectar com o banco de dados {}\".format(error))\n",
    "\n",
    "\n",
    "def insert_data(connection, time_point, heart_rate, oxygen_lvl, diagnosis):\n",
    "    try:\n",
    "        cursor = connection.cursor()\n",
    "        sql_query = \"INSERT INTO sensor_data (time_point, heart_rate, oxygen_levels, diagnosis) VALUES (%s, %s, %s, %s)\"\n",
    "        data_values = (time_point, heart_rate, oxygen_lvl, diagnosis)\n",
    "        cursor.execute(sql_query, data_values)\n",
    "        connection.commit()\n",
    "        print(\"Dados inseridos com sucesso no banco de dados\")\n",
    "    except mysql.connector.Error as error:\n",
    "        print(\"Erro ao inserir dados no banco de dados:{}\".format(error))\n",
    "\n",
    "\n",
    "\n",
    "\n",
    "def generate_data():\n",
    "    time_points = np.linspace(0, 10, 100)  # Tempo de simulação de 0 a 10 segundos\n",
    "    heart_rate = 60 + 40 * np.sqrt(time_points) + np.random.normal(0, 5, size=len(time_points))\n",
    "    oxygen_levels = 95 + np.random.normal(0, 2, size=len(time_points))\n",
    "    return time_points, heart_rate, oxygen_levels\n",
    "\n",
    "def simulate_sensor(connection):\n",
    "    time_points, heart_rate, oxygen_levels = generate_data()\n",
    "    for t, hr, ox in zip(time_points, heart_rate, oxygen_levels):\n",
    "        diag = \"NORMAL\"  # Inicialmente assume que está normal\n",
    "        if ox < 95:\n",
    "            if ox < 91:\n",
    "                diag = \"HIPOXIA MODERADA\"\n",
    "            else:\n",
    "                diag = \"HIPOXIA LEVE\"\n",
    "        elif ox < 80:\n",
    "            diag = \"HIPOXIA SEVERA\"\n",
    "\n",
    "        print(f\"oximetria: {ox:.1f}, heartRate: {hr:.0f}, diag: {diag}\")\n",
    "\n",
    "        insert_data(connection, t, hr, ox, diag)\n",
    "\n",
    "        time.sleep(0.1)\n",
    "\n",
    "\n",
    "    # Plotar gráfico\n",
    "    plt.figure(figsize=(10, 6))\n",
    "    plt.plot(time_points, heart_rate, label='Frequência Cardíaca', color='blue')\n",
    "    plt.plot(time_points, oxygen_levels, label='Nível de Oxigênio', color='red')\n",
    "    plt.xlabel('Tempo (s)')\n",
    "    plt.ylabel('Valor')\n",
    "    plt.title('Simulação de Frequência Cardíaca e Oximetria')\n",
    "    plt.legend()\n",
    "    plt.grid(True)\n",
    "    plt.show()"
   ]
  },
  {
   "cell_type": "code",
   "execution_count": 6,
   "metadata": {},
   "outputs": [
    {
     "name": "stdout",
     "output_type": "stream",
     "text": [
      "Erro ao conectar com o banco de dados Authentication plugin 'caching_sha2_password' is not supported\n"
     ]
    }
   ],
   "source": [
    "if __name__ == \"__main__\":\n",
    "    connection = connect_database()\n",
    "    if connection:\n",
    "        simulate_sensor(connection)\n",
    "        connection.close()"
   ]
  }
 ],
 "metadata": {
  "kernelspec": {
   "display_name": "Python 3",
   "language": "python",
   "name": "python3"
  },
  "language_info": {
   "codemirror_mode": {
    "name": "ipython",
    "version": 3
   },
   "file_extension": ".py",
   "mimetype": "text/x-python",
   "name": "python",
   "nbconvert_exporter": "python",
   "pygments_lexer": "ipython3",
   "version": "3.12.2"
  }
 },
 "nbformat": 4,
 "nbformat_minor": 2
}
